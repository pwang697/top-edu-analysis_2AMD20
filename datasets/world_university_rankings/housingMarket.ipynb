{
 "cells": [
  {
   "cell_type": "code",
   "execution_count": 1,
   "metadata": {},
   "outputs": [
    {
     "data": {
      "text/html": [
       "<div>\n",
       "<style scoped>\n",
       "    .dataframe tbody tr th:only-of-type {\n",
       "        vertical-align: middle;\n",
       "    }\n",
       "\n",
       "    .dataframe tbody tr th {\n",
       "        vertical-align: top;\n",
       "    }\n",
       "\n",
       "    .dataframe thead th {\n",
       "        text-align: right;\n",
       "    }\n",
       "</style>\n",
       "<table border=\"1\" class=\"dataframe\">\n",
       "  <thead>\n",
       "    <tr style=\"text-align: right;\">\n",
       "      <th></th>\n",
       "      <th>period_begin</th>\n",
       "      <th>period_end</th>\n",
       "      <th>period_duration</th>\n",
       "      <th>region_type</th>\n",
       "      <th>region_type_id</th>\n",
       "      <th>table_id</th>\n",
       "      <th>is_seasonally_adjusted</th>\n",
       "      <th>region</th>\n",
       "      <th>city</th>\n",
       "      <th>state</th>\n",
       "      <th>...</th>\n",
       "      <th>sold_above_list_yoy</th>\n",
       "      <th>price_drops</th>\n",
       "      <th>price_drops_mom</th>\n",
       "      <th>price_drops_yoy</th>\n",
       "      <th>off_market_in_two_weeks</th>\n",
       "      <th>off_market_in_two_weeks_mom</th>\n",
       "      <th>off_market_in_two_weeks_yoy</th>\n",
       "      <th>parent_metro_region</th>\n",
       "      <th>parent_metro_region_metro_code</th>\n",
       "      <th>last_updated</th>\n",
       "    </tr>\n",
       "  </thead>\n",
       "  <tbody>\n",
       "    <tr>\n",
       "      <th>0</th>\n",
       "      <td>2017-04-01</td>\n",
       "      <td>2017-04-30</td>\n",
       "      <td>30</td>\n",
       "      <td>county</td>\n",
       "      <td>5</td>\n",
       "      <td>170</td>\n",
       "      <td>f</td>\n",
       "      <td>Morgan County, AL</td>\n",
       "      <td>NaN</td>\n",
       "      <td>Alabama</td>\n",
       "      <td>...</td>\n",
       "      <td>-0.069595</td>\n",
       "      <td>NaN</td>\n",
       "      <td>NaN</td>\n",
       "      <td>NaN</td>\n",
       "      <td>0.020833</td>\n",
       "      <td>0.020833</td>\n",
       "      <td>0.001225</td>\n",
       "      <td>Decatur, AL</td>\n",
       "      <td>19460.0</td>\n",
       "      <td>2022-01-09 14:29:56</td>\n",
       "    </tr>\n",
       "    <tr>\n",
       "      <th>1</th>\n",
       "      <td>2014-12-01</td>\n",
       "      <td>2014-12-31</td>\n",
       "      <td>30</td>\n",
       "      <td>county</td>\n",
       "      <td>5</td>\n",
       "      <td>1457</td>\n",
       "      <td>f</td>\n",
       "      <td>Hennepin County, MN</td>\n",
       "      <td>NaN</td>\n",
       "      <td>Minnesota</td>\n",
       "      <td>...</td>\n",
       "      <td>-0.098136</td>\n",
       "      <td>0.097744</td>\n",
       "      <td>-0.121909</td>\n",
       "      <td>-0.197220</td>\n",
       "      <td>0.172414</td>\n",
       "      <td>0.034483</td>\n",
       "      <td>-0.033469</td>\n",
       "      <td>Minneapolis, MN</td>\n",
       "      <td>33460.0</td>\n",
       "      <td>2022-01-09 14:29:56</td>\n",
       "    </tr>\n",
       "    <tr>\n",
       "      <th>2</th>\n",
       "      <td>2018-02-01</td>\n",
       "      <td>2018-02-28</td>\n",
       "      <td>30</td>\n",
       "      <td>county</td>\n",
       "      <td>5</td>\n",
       "      <td>2319</td>\n",
       "      <td>f</td>\n",
       "      <td>Tulsa County, OK</td>\n",
       "      <td>NaN</td>\n",
       "      <td>Oklahoma</td>\n",
       "      <td>...</td>\n",
       "      <td>-0.024840</td>\n",
       "      <td>0.206004</td>\n",
       "      <td>-0.026139</td>\n",
       "      <td>0.009313</td>\n",
       "      <td>0.479924</td>\n",
       "      <td>0.068277</td>\n",
       "      <td>-0.042568</td>\n",
       "      <td>Tulsa, OK</td>\n",
       "      <td>46140.0</td>\n",
       "      <td>2022-01-09 14:29:56</td>\n",
       "    </tr>\n",
       "    <tr>\n",
       "      <th>3</th>\n",
       "      <td>2017-08-01</td>\n",
       "      <td>2017-08-31</td>\n",
       "      <td>30</td>\n",
       "      <td>county</td>\n",
       "      <td>5</td>\n",
       "      <td>1448</td>\n",
       "      <td>f</td>\n",
       "      <td>Crow Wing County, MN</td>\n",
       "      <td>NaN</td>\n",
       "      <td>Minnesota</td>\n",
       "      <td>...</td>\n",
       "      <td>NaN</td>\n",
       "      <td>0.200000</td>\n",
       "      <td>-0.050000</td>\n",
       "      <td>NaN</td>\n",
       "      <td>NaN</td>\n",
       "      <td>NaN</td>\n",
       "      <td>NaN</td>\n",
       "      <td>Brainerd, MN</td>\n",
       "      <td>14660.0</td>\n",
       "      <td>2022-01-09 14:29:56</td>\n",
       "    </tr>\n",
       "    <tr>\n",
       "      <th>4</th>\n",
       "      <td>2019-05-01</td>\n",
       "      <td>2019-05-31</td>\n",
       "      <td>30</td>\n",
       "      <td>county</td>\n",
       "      <td>5</td>\n",
       "      <td>1586</td>\n",
       "      <td>f</td>\n",
       "      <td>Tate County, MS</td>\n",
       "      <td>NaN</td>\n",
       "      <td>Mississippi</td>\n",
       "      <td>...</td>\n",
       "      <td>0.107895</td>\n",
       "      <td>NaN</td>\n",
       "      <td>NaN</td>\n",
       "      <td>NaN</td>\n",
       "      <td>0.000000</td>\n",
       "      <td>-0.111111</td>\n",
       "      <td>-0.100000</td>\n",
       "      <td>Memphis, TN</td>\n",
       "      <td>32820.0</td>\n",
       "      <td>2022-01-09 14:29:56</td>\n",
       "    </tr>\n",
       "  </tbody>\n",
       "</table>\n",
       "<p>5 rows × 58 columns</p>\n",
       "</div>"
      ],
      "text/plain": [
       "  period_begin  period_end  period_duration region_type  region_type_id  \\\n",
       "0   2017-04-01  2017-04-30               30      county               5   \n",
       "1   2014-12-01  2014-12-31               30      county               5   \n",
       "2   2018-02-01  2018-02-28               30      county               5   \n",
       "3   2017-08-01  2017-08-31               30      county               5   \n",
       "4   2019-05-01  2019-05-31               30      county               5   \n",
       "\n",
       "   table_id is_seasonally_adjusted                region  city        state  \\\n",
       "0       170                      f     Morgan County, AL   NaN      Alabama   \n",
       "1      1457                      f   Hennepin County, MN   NaN    Minnesota   \n",
       "2      2319                      f      Tulsa County, OK   NaN     Oklahoma   \n",
       "3      1448                      f  Crow Wing County, MN   NaN    Minnesota   \n",
       "4      1586                      f       Tate County, MS   NaN  Mississippi   \n",
       "\n",
       "   ... sold_above_list_yoy price_drops  price_drops_mom  price_drops_yoy  \\\n",
       "0  ...           -0.069595         NaN              NaN              NaN   \n",
       "1  ...           -0.098136    0.097744        -0.121909        -0.197220   \n",
       "2  ...           -0.024840    0.206004        -0.026139         0.009313   \n",
       "3  ...                 NaN    0.200000        -0.050000              NaN   \n",
       "4  ...            0.107895         NaN              NaN              NaN   \n",
       "\n",
       "   off_market_in_two_weeks  off_market_in_two_weeks_mom  \\\n",
       "0                 0.020833                     0.020833   \n",
       "1                 0.172414                     0.034483   \n",
       "2                 0.479924                     0.068277   \n",
       "3                      NaN                          NaN   \n",
       "4                 0.000000                    -0.111111   \n",
       "\n",
       "   off_market_in_two_weeks_yoy  parent_metro_region  \\\n",
       "0                     0.001225          Decatur, AL   \n",
       "1                    -0.033469      Minneapolis, MN   \n",
       "2                    -0.042568            Tulsa, OK   \n",
       "3                          NaN         Brainerd, MN   \n",
       "4                    -0.100000          Memphis, TN   \n",
       "\n",
       "   parent_metro_region_metro_code         last_updated  \n",
       "0                         19460.0  2022-01-09 14:29:56  \n",
       "1                         33460.0  2022-01-09 14:29:56  \n",
       "2                         46140.0  2022-01-09 14:29:56  \n",
       "3                         14660.0  2022-01-09 14:29:56  \n",
       "4                         32820.0  2022-01-09 14:29:56  \n",
       "\n",
       "[5 rows x 58 columns]"
      ]
     },
     "execution_count": 1,
     "metadata": {},
     "output_type": "execute_result"
    }
   ],
   "source": [
    "import pandas as pd\n",
    "\n",
    "uniData = pd.read_csv('Joined_data_2021.csv')\n",
    "housingData = pd.read_csv('county_market_tracker.tsv000', sep='\\t')\n",
    "housingData.head()"
   ]
  },
  {
   "cell_type": "code",
   "execution_count": 2,
   "metadata": {},
   "outputs": [],
   "source": [
    "# Extract the county name from the housing data\n",
    "housingData['county'] = housingData['region'].str.split(',').str[0]"
   ]
  },
  {
   "cell_type": "code",
   "execution_count": 3,
   "metadata": {},
   "outputs": [],
   "source": [
    "# Remove the word county from the county name if it exists\n",
    "housingData['county'] = housingData['county'].str.replace(' County', '')"
   ]
  },
  {
   "cell_type": "code",
   "execution_count": 12,
   "metadata": {},
   "outputs": [],
   "source": [
    "# Remove all rows which period_begin and period_end is not in 2021\n",
    "housingData = housingData[housingData['period_begin'].str.contains('2021')]\n",
    "housingData = housingData[housingData['period_end'].str.contains('2021')]"
   ]
  },
  {
   "cell_type": "code",
   "execution_count": 13,
   "metadata": {},
   "outputs": [
    {
     "data": {
      "text/plain": [
       "1229"
      ]
     },
     "execution_count": 13,
     "metadata": {},
     "output_type": "execute_result"
    }
   ],
   "source": [
    "len(housingData['county'].unique())"
   ]
  },
  {
   "cell_type": "code",
   "execution_count": 15,
   "metadata": {},
   "outputs": [
    {
     "name": "stdout",
     "output_type": "stream",
     "text": [
      "11        Hood River\n",
      "14            Murray\n",
      "21          Stoddard\n",
      "34           Kendall\n",
      "75         Clackamas\n",
      "             ...    \n",
      "563051       Kendall\n",
      "563075       Douglas\n",
      "563084    Montgomery\n",
      "563099      Columbia\n",
      "563102     Lancaster\n",
      "Name: county, Length: 65244, dtype: object\n",
      "0      Santa Clara\n",
      "1        Middlesex\n",
      "2      Los Angeles\n",
      "3        Middlesex\n",
      "4        New Haven\n",
      "          ...     \n",
      "169         Dallas\n",
      "170        El Paso\n",
      "171      Albemarle\n",
      "172           King\n",
      "173     James City\n",
      "Name: county, Length: 174, dtype: object\n"
     ]
    }
   ],
   "source": [
    "print(housingData['county'])\n",
    "print(uniData['county'])"
   ]
  },
  {
   "cell_type": "code",
   "execution_count": 16,
   "metadata": {},
   "outputs": [],
   "source": [
    "# Joining the two datasets\n",
    "combinedData = uniData.merge(housingData, on='county', how='inner')"
   ]
  },
  {
   "cell_type": "code",
   "execution_count": 17,
   "metadata": {},
   "outputs": [
    {
     "data": {
      "text/plain": [
       "array(['Santa Clara', 'Middlesex', 'Los Angeles', 'New Haven', 'Mercer',\n",
       "       'Baltimore', 'Philadelphia', 'Tompkins', 'Durham', 'Washtenaw',\n",
       "       'Cook', 'New York', 'Allegheny', 'Champaign', 'Dane', 'St. Louis',\n",
       "       'Suffolk', 'Orange', 'Providence', 'DeKalb', 'Grafton', 'Ingham',\n",
       "       'Davidson', 'District of Columbia', 'Cuyahoga', 'Pima', 'Harris',\n",
       "       'Boulder', 'Monroe', 'Alachua', 'Jefferson', 'St. Joseph',\n",
       "       'Johnson', 'Miami-Dade', 'Salt Lake', 'Montgomery', 'Erie', 'Leon',\n",
       "       'Fairfax', 'Broward', 'Forsyth', 'New Castle', 'Lane', 'Onondaga',\n",
       "       'Whitman', 'Douglas', 'Wayne', 'Fairbanks North Star', 'Worcester',\n",
       "       'Tolland', 'Denver', 'Clarke', 'Fulton', 'Story', 'Fayette',\n",
       "       'Phelps', 'Lancaster', 'Benton', 'Richland', 'Nassau', 'Essex',\n",
       "       'Coconino', 'Rensselaer', 'Hudson', 'Bexar', 'Tuscaloosa',\n",
       "       'Madison', 'Washington', 'Lee', 'Pickens', 'Latah', 'Riley',\n",
       "       'Northampton', 'Gallatin', 'Guilford', 'San Diego', 'Lubbock',\n",
       "       'Lucas', 'Whatcom', 'Milwaukee', 'McLennan', 'Palm Beach',\n",
       "       'Brevard', 'Lincoln', 'Shelby', 'Oktibbeha', 'Norfolk',\n",
       "       'Multnomah', 'Clay', 'Jackson', 'Pitt', 'Harrisonburg',\n",
       "       'New Hanover', 'Oakland', 'Kalamazoo', 'Maricopa', 'Wood',\n",
       "       'Larimer', 'Portage', 'East Baton Rouge', 'Boone', 'Doña Ana',\n",
       "       'Wake', 'Franklin', 'Athens', 'Payne', 'Tippecanoe', 'Albany',\n",
       "       'Brazos', 'Hays', 'Knox', 'Orleans', 'Alameda', 'Yolo', 'Merced',\n",
       "       'Riverside', 'Santa Barbara', 'Santa Cruz', 'Honolulu',\n",
       "       \"Prince George's\", 'Hampshire', 'Hennepin', 'Missoula', 'Clark',\n",
       "       'Bernalillo', 'Tarrant', 'Travis', 'Dallas', 'El Paso',\n",
       "       'Albemarle', 'King', 'James City'], dtype=object)"
      ]
     },
     "execution_count": 17,
     "metadata": {},
     "output_type": "execute_result"
    }
   ],
   "source": [
    "uniData['county'].unique()"
   ]
  },
  {
   "cell_type": "code",
   "execution_count": 18,
   "metadata": {},
   "outputs": [],
   "source": [
    "# Save the combined data to a csv file\n",
    "combinedData.to_csv('housingAndUniData2021.csv', index=False)"
   ]
  },
  {
   "cell_type": "code",
   "execution_count": 19,
   "metadata": {},
   "outputs": [
    {
     "data": {
      "text/plain": [
       "21802"
      ]
     },
     "execution_count": 19,
     "metadata": {},
     "output_type": "execute_result"
    }
   ],
   "source": [
    "len(combinedData['county'])"
   ]
  },
  {
   "cell_type": "code",
   "execution_count": null,
   "metadata": {},
   "outputs": [],
   "source": []
  }
 ],
 "metadata": {
  "kernelspec": {
   "display_name": "base",
   "language": "python",
   "name": "python3"
  },
  "language_info": {
   "codemirror_mode": {
    "name": "ipython",
    "version": 3
   },
   "file_extension": ".py",
   "mimetype": "text/x-python",
   "name": "python",
   "nbconvert_exporter": "python",
   "pygments_lexer": "ipython3",
   "version": "3.9.7"
  },
  "orig_nbformat": 4
 },
 "nbformat": 4,
 "nbformat_minor": 2
}
